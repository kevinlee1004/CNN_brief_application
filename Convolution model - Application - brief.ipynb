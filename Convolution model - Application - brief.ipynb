{
 "cells": [
  {
   "cell_type": "markdown",
   "metadata": {},
   "source": [
    "# Convolutional Neural Networks: Simple Application\n"
   ]
  },
  {
   "cell_type": "code",
   "execution_count": 1,
   "metadata": {
    "collapsed": true
   },
   "outputs": [],
   "source": [
    "import math\n",
    "import numpy as np\n",
    "import h5py\n",
    "import matplotlib.pyplot as plt\n",
    "import scipy\n",
    "from PIL import Image\n",
    "from scipy import ndimage\n",
    "import tensorflow as tf\n",
    "from tensorflow.python.framework import ops\n",
    "from cnn_utils import *\n",
    "\n",
    "%matplotlib inline\n",
    "np.random.seed(1)"
   ]
  },
  {
   "cell_type": "code",
   "execution_count": 40,
   "metadata": {
    "collapsed": true
   },
   "outputs": [],
   "source": [
    "def load_dataset():\n",
    "    train_dataset = h5py.File('datasets/train_signs.h5', \"r\")\n",
    "    train_set_x_orig = np.array(train_dataset[\"train_set_x\"][:]) # your train set features\n",
    "    train_set_y_orig = np.array(train_dataset[\"train_set_y\"][:]) # your train set labels\n",
    "\n",
    "    test_dataset = h5py.File('datasets/test_signs.h5', \"r\")\n",
    "    test_set_x_orig = np.array(test_dataset[\"test_set_x\"][:]) # your test set features\n",
    "    test_set_y_orig = np.array(test_dataset[\"test_set_y\"][:]) # your test set labels\n",
    "\n",
    "    classes = np.array(test_dataset[\"list_classes\"][:]) # the list of classes\n",
    "    \n",
    "    train_set_y_orig = train_set_y_orig.reshape((1, train_set_y_orig.shape[0]))\n",
    "    test_set_y_orig = test_set_y_orig.reshape((1, test_set_y_orig.shape[0]))\n",
    "    \n",
    "    return train_set_x_orig, train_set_y_orig, test_set_x_orig, test_set_y_orig, classes"
   ]
  },
  {
   "cell_type": "code",
   "execution_count": 41,
   "metadata": {},
   "outputs": [],
   "source": [
    "# Loading the data (signs)\n",
    "X_train_orig, Y_train_orig, X_test_orig, Y_test_orig, classes = load_dataset()\n",
    "\n",
    "# Prepare train and test data\n",
    "X_train = X_train_orig/225\n",
    "Y_train = np.eye(6)[Y_train_orig.reshape(-1)].T.T\n",
    "X_test = X_test_orig/225\n",
    "Y_test = np.eye(6)[Y_test_orig.reshape(-1)].T.T\n",
    "\n",
    "ops.reset_default_graph()                         # to be able to rerun the model without overwriting tf variables\n",
    "tf.set_random_seed(1)                             # to keep results consistent (tensorflow seed)\n",
    "seed = 3                                          # to keep results consistent (numpy seed)\n",
    "(m, n_H0, n_W0, n_C0) = X_train.shape             \n",
    "n_y = Y_train.shape[1]                            \n",
    "costs = []                                        # To keep track of the cost\n",
    "\n",
    " # Create Placeholders of the correct shape\n",
    "### START CODE HERE ### (1 line)\n",
    "X = tf.placeholder(tf.float32, shape=(None, n_H0, n_W0, n_C0))\n",
    "Y = tf.placeholder(tf.float32, shape=(None, n_y))\n",
    "\n",
    "# Initialize parameters\n",
    "tf.set_random_seed(1)\n",
    "W1 = tf.get_variable(\"W1\",  [4, 4, 3, 8], initializer=tf.contrib.layers.xavier_initializer(seed=0))\n",
    "W2 = tf.get_variable(\"W2\",  [2, 2, 8, 16], initializer=tf.contrib.layers.xavier_initializer(seed=0))    \n",
    "\n",
    "parameters = {\"W1\": W1, \"W2\": W2}\n",
    "\n",
    "# Forward propagation: Build the forward propagation in the tensorflow graph\n",
    "# Retrieve the parameters from the dictionary \"parameters\" \n",
    "W1 = parameters['W1']\n",
    "W2 = parameters['W2']\n",
    "    \n",
    "# CONV2D: stride of 1, padding 'SAME'\n",
    "Z1 = tf.nn.conv2d(X, W1, strides=[1,1,1,1], padding=\"SAME\")\n",
    "# RELU\n",
    "A1 = tf.nn.relu(Z1)\n",
    "# MAXPOOL: window 8x8, sride 8, padding 'SAME'\n",
    "P1 = tf.nn.max_pool(A1, ksize=[1,8,8,1], strides=[1,8,8,1], padding=\"SAME\")\n",
    "# CONV2D: filters W2, stride 1, padding 'SAME'\n",
    "Z2 = tf.nn.conv2d(P1, W2, strides=[1,1,1,1], padding=\"SAME\")\n",
    "# RELU\n",
    "A2 = tf.nn.relu(Z2)\n",
    "# MAXPOOL: window 4x4, stride 4, padding 'SAME'\n",
    "P2 = tf.nn.max_pool(A2, ksize=[1,4,4,1], strides=[1,4,4,1], padding=\"SAME\")\n",
    "# FLATTEN\n",
    "P2 = tf.contrib.layers.flatten(P2)\n",
    "# FULLY-CONNECTED without non-linear activation function (not not call softmax).\n",
    "# 6 neurons in output layer. Hint: one of the arguments should be \"activation_fn=None\" \n",
    "Z3 = tf.contrib.layers.fully_connected(P2, 6, activation_fn=None)\n",
    "\n",
    "# Cost function: Add cost function to tensorflow graph\n",
    "cost = tf.reduce_mean(tf.nn.softmax_cross_entropy_with_logits(logits=Z3, labels=Y))\n",
    "        \n",
    "# Backpropagation: Define the tensorflow optimizer. Use an AdamOptimizer that minimizes the cost.\n",
    "learning_rate=0.009\n",
    "optimizer = tf.train.AdamOptimizer(learning_rate).minimize(cost)\n",
    "    \n",
    "# Initialize all the variables globally\n",
    "init = tf.global_variables_initializer()\n",
    "num_epochs =100\n",
    "minibatch_size = 64"
   ]
  },
  {
   "cell_type": "code",
   "execution_count": 33,
   "metadata": {},
   "outputs": [
    {
     "name": "stdout",
     "output_type": "stream",
     "text": [
      "Cost after epoch 0: 1.919551\n",
      "Cost after epoch 5: 1.542004\n",
      "Cost after epoch 10: 0.882481\n",
      "Cost after epoch 15: 0.713281\n",
      "Cost after epoch 20: 0.620813\n",
      "Cost after epoch 25: 0.578840\n",
      "Cost after epoch 30: 0.517101\n",
      "Cost after epoch 35: 0.475654\n",
      "Cost after epoch 40: 0.469346\n",
      "Cost after epoch 45: 0.428041\n",
      "Cost after epoch 50: 0.406183\n",
      "Cost after epoch 55: 0.410386\n",
      "Cost after epoch 60: 0.398974\n",
      "Cost after epoch 65: 0.356391\n",
      "Cost after epoch 70: 0.370871\n",
      "Cost after epoch 75: 0.333031\n",
      "Cost after epoch 80: 0.356059\n",
      "Cost after epoch 85: 0.307613\n",
      "Cost after epoch 90: 0.295293\n",
      "Cost after epoch 95: 0.290434\n"
     ]
    },
    {
     "data": {
      "image/png": "[encoded data removed]",
      "text/plain": [
       "<matplotlib.figure.Figure at 0x185c3534208>"
      ]
     },
     "metadata": {},
     "output_type": "display_data"
    },
    {
     "name": "stdout",
     "output_type": "stream",
     "text": [
      "Tensor(\"Mean_1:0\", shape=(), dtype=float32)\n",
      "Train Accuracy: 0.907407\n",
      "Test Accuracy: 0.691667\n"
     ]
    }
   ],
   "source": [
    "# Start the session to compute the tensorflow graph\n",
    "with tf.Session() as sess:\n",
    "        \n",
    "    # Run the initialization\n",
    "    sess.run(init)\n",
    "        \n",
    "    # Do the training loop\n",
    "    for epoch in range(num_epochs):\n",
    "\n",
    "        minibatch_cost = 0.\n",
    "        num_minibatches = int(m / minibatch_size) # number of minibatches of size minibatch_size in the train set\n",
    "        seed = seed + 1\n",
    "        minibatches = random_mini_batches(X_train, Y_train, minibatch_size, seed)\n",
    "\n",
    "        for minibatch in minibatches:\n",
    "            # Select a minibatch\n",
    "            (minibatch_X, minibatch_Y) = minibatch\n",
    "            # Run the session to execute the optimizer and the cost, the feedict should contain a minibatch for (X,Y).\n",
    "            _ , temp_cost = sess.run([optimizer, cost], feed_dict={X: minibatch_X, Y: minibatch_Y})\n",
    "                \n",
    "            minibatch_cost += temp_cost / num_minibatches\n",
    "                \n",
    "        # Print the cost every epoch\n",
    "        if epoch % 5 == 0:\n",
    "            print (\"Cost after epoch %i: %f\" % (epoch, minibatch_cost))\n",
    "        if epoch % 1 == 0:\n",
    "            costs.append(minibatch_cost)\n",
    "        \n",
    "    # plot the cost\n",
    "    plt.plot(np.squeeze(costs))\n",
    "    plt.ylabel('cost')\n",
    "    plt.xlabel('iterations (per tens)')\n",
    "    plt.title(\"Learning rate =\" + str(learning_rate))\n",
    "    plt.show()\n",
    "\n",
    "    # Calculate the correct predictions\n",
    "    predict_op = tf.argmax(Z3, 1)\n",
    "    correct_prediction = tf.equal(predict_op, tf.argmax(Y, 1))\n",
    "        \n",
    "    # Calculate accuracy on the test set\n",
    "    accuracy = tf.reduce_mean(tf.cast(correct_prediction, \"float\"))\n",
    "    print(accuracy)\n",
    "    train_accuracy = accuracy.eval({X: X_train, Y: Y_train})\n",
    "    test_accuracy = accuracy.eval({X: X_test, Y: Y_test})\n",
    "    print(\"Train Accuracy:\", train_accuracy)\n",
    "    print(\"Test Accuracy:\", test_accuracy)\n",
    "                "
   ]
  },
  {
   "cell_type": "code",
   "execution_count": null,
   "metadata": {
    "collapsed": true
   },
   "outputs": [],
   "source": []
  }
 ],
 "metadata": {
  "coursera": {
   "course_slug": "convolutional-neural-networks",
   "graded_item_id": "bwbJV",
   "launcher_item_id": "0TkXB"
  },
  "kernelspec": {
   "display_name": "Python 3",
   "language": "python",
   "name": "python3"
  },
  "language_info": {
   "codemirror_mode": {
    "name": "ipython",
    "version": 3
   },
   "file_extension": ".py",
   "mimetype": "text/x-python",
   "name": "python",
   "nbconvert_exporter": "python",
   "pygments_lexer": "ipython3",
   "version": "3.6.3"
  }
 },
 "nbformat": 4,
 "nbformat_minor": 1
}
